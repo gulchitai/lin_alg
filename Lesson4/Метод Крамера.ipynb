{
 "cells": [
  {
   "cell_type": "markdown",
   "metadata": {},
   "source": [
    "5*. Написать на Python программу с реализацией одного из изученных алгоритмов решения СЛАУ."
   ]
  },
  {
   "cell_type": "code",
   "execution_count": 18,
   "metadata": {},
   "outputs": [
    {
     "name": "stdout",
     "output_type": "stream",
     "text": [
      "[[ 1 -2]\n",
      " [ 3 -4]]\n",
      "\n",
      " [1 7]\n",
      "\n",
      " 2\n",
      "\n",
      " [[ 1 -2]\n",
      " [ 7 -4]]\n",
      "\n",
      " [[1 1]\n",
      " [3 7]]\n",
      "\n",
      " [5.0, 2.0]\n"
     ]
    }
   ],
   "source": [
    "import numpy as np\n",
    "\n",
    "#Минор\n",
    "def submatrix(M,c):\n",
    "    B = [[1]*len(M) for i in range(len(M))]\n",
    "    for l in range(len(M)):\n",
    "        for k in range(len(M)):\n",
    "            B[l][k] = M[l][k]\n",
    "    \n",
    "    B.pop(0)\n",
    "    \n",
    "    for i in range(len(B)):\n",
    "        B[i].pop(c)\n",
    "    return B\n",
    "\n",
    "#Определитель методом Лапласа\n",
    "def det_L(M):\n",
    "    X = 0\n",
    "    if len(M) != len(M[0]):\n",
    "        print('Матрица не квадратная')\n",
    "    else:\n",
    "        if len(M)<=2:\n",
    "            return M[0][0] * M[1][1] - M[0][1] * M[1][0]\n",
    "        else:\n",
    "            for i in range(len(M)):\n",
    "                X = X + ((-1)**i)*M[0][i]*det_L(submatrix(M,i))\n",
    "        return X\n",
    "\n",
    "#Решение методом Крамера\n",
    "def Kramer(A,B):\n",
    "    det_A = det_L(A)\n",
    "    X = []\n",
    "    if det_A == 0:\n",
    "        print('Определитель матрицы не должен быть равен 0')\n",
    "        return X\n",
    "    n = len(A)    \n",
    "    for i in range(n):\n",
    "        matrix = A.copy()\n",
    "        matrix[:,i] = B\n",
    "        print('\\n',matrix)\n",
    "        X.append(det_L(matrix) / det_A)\n",
    "    return X\n",
    "    \n",
    "#a = np.random.rand(3,3)\n",
    "#b = np.random.rand(1,3)\n",
    "a = np.array([[1,-2],[3,-4]])\n",
    "b = np.array([1,7])\n",
    "print(a)\n",
    "print('\\n',b)\n",
    "print('\\n', det_L(a))\n",
    "print('\\n', Kramer(a,b))"
   ]
  },
  {
   "cell_type": "code",
   "execution_count": null,
   "metadata": {},
   "outputs": [],
   "source": []
  }
 ],
 "metadata": {
  "kernelspec": {
   "display_name": "Python 3",
   "language": "python",
   "name": "python3"
  },
  "language_info": {
   "codemirror_mode": {
    "name": "ipython",
    "version": 3
   },
   "file_extension": ".py",
   "mimetype": "text/x-python",
   "name": "python",
   "nbconvert_exporter": "python",
   "pygments_lexer": "ipython3",
   "version": "3.7.5"
  }
 },
 "nbformat": 4,
 "nbformat_minor": 2
}
