{
 "cells": [
  {
   "cell_type": "markdown",
   "metadata": {},
   "source": [
    "### Матрицы и матричные операции. Часть 1"
   ]
  },
  {
   "cell_type": "code",
   "execution_count": 2,
   "metadata": {},
   "outputs": [],
   "source": [
    "import numpy as np"
   ]
  },
  {
   "cell_type": "code",
   "execution_count": 13,
   "metadata": {},
   "outputs": [
    {
     "name": "stdout",
     "output_type": "stream",
     "text": [
      "Матрица A\n",
      "[[1 0]\n",
      " [2 1]\n",
      " [1 0]\n",
      " [2 1]]\n",
      "Матрица B\n",
      "[[[1 0]\n",
      "  [2 1]\n",
      "  [1 0]\n",
      "  [2 1]]]\n"
     ]
    },
    {
     "ename": "ValueError",
     "evalue": "shapes (4,2) and (1,4,2) not aligned: 2 (dim 1) != 4 (dim 1)",
     "output_type": "error",
     "traceback": [
      "\u001b[1;31m---------------------------------------------------------------------------\u001b[0m",
      "\u001b[1;31mValueError\u001b[0m                                Traceback (most recent call last)",
      "\u001b[1;32m<ipython-input-13-24442b1cd6ee>\u001b[0m in \u001b[0;36m<module>\u001b[1;34m\u001b[0m\n\u001b[0;32m      4\u001b[0m \u001b[0mprint\u001b[0m\u001b[1;33m(\u001b[0m\u001b[1;34mf'Матрица A\\n{A}'\u001b[0m\u001b[1;33m)\u001b[0m\u001b[1;33m\u001b[0m\u001b[1;33m\u001b[0m\u001b[0m\n\u001b[0;32m      5\u001b[0m \u001b[0mprint\u001b[0m\u001b[1;33m(\u001b[0m\u001b[1;34mf'Матрица B\\n{B}'\u001b[0m\u001b[1;33m)\u001b[0m\u001b[1;33m\u001b[0m\u001b[1;33m\u001b[0m\u001b[0m\n\u001b[1;32m----> 6\u001b[1;33m \u001b[0mprint\u001b[0m\u001b[1;33m(\u001b[0m\u001b[1;34mf'Матрица AB\\n{np.dot(A, B)}'\u001b[0m\u001b[1;33m)\u001b[0m\u001b[1;33m\u001b[0m\u001b[1;33m\u001b[0m\u001b[0m\n\u001b[0m",
      "\u001b[1;31mValueError\u001b[0m: shapes (4,2) and (1,4,2) not aligned: 2 (dim 1) != 4 (dim 1)"
     ]
    }
   ],
   "source": [
    "A = np.array([[1, 0], [2, 1], [1, 0], [2, 1]])\n",
    "B = np.array([[[1, 0], [2, 1], [1, 0], [2, 1]]])\n",
    "\n",
    "print(f'Матрица A\\n{A}')\n",
    "print(f'Матрица B\\n{B}')\n",
    "print(f'Матрица AB\\n{np.dot(A, B)}')"
   ]
  },
  {
   "cell_type": "code",
   "execution_count": 11,
   "metadata": {},
   "outputs": [
    {
     "name": "stdout",
     "output_type": "stream",
     "text": [
      "Матрица A\n",
      "[[ 1  0  4  5  3]\n",
      " [ 2  1 10  5 10]]\n",
      "Матрица B\n",
      "[[2 0 4]\n",
      " [0 0 1]\n",
      " [2 1 9]\n",
      " [2 0 4]\n",
      " [0 0 1]]\n",
      "Матрица AB\n",
      "[[ 20   4  63]\n",
      " [ 34  10 129]]\n"
     ]
    }
   ],
   "source": [
    "A = np.array([[1, 0, 4, 5, 3], [2, 1, 10, 5, 10]])\n",
    "B = np.array([[2, 0, 4], [0, 0, 1], [2, 1, 9], [2, 0, 4], [0, 0, 1]])\n",
    "\n",
    "print(f'Матрица A\\n{A}')\n",
    "print(f'Матрица B\\n{B}')\n",
    "print(f'Матрица AB\\n{np.dot(A, B)}')"
   ]
  },
  {
   "cell_type": "code",
   "execution_count": 15,
   "metadata": {},
   "outputs": [
    {
     "name": "stdout",
     "output_type": "stream",
     "text": [
      "Матрица A\n",
      "[[1 0 3]\n",
      " [2 1 4]\n",
      " [1 0 4]\n",
      " [2 1 5]\n",
      " [1 0 6]\n",
      " [2 1 3]\n",
      " [1 0 3]\n",
      " [2 1 1]]\n",
      "Матрица B\n",
      "[[ 2  0  4  0  0  1  9  3]\n",
      " [ 0  0  1  2  1  9  2  0]\n",
      " [ 0  0 11  2  1  9  2  0]]\n",
      "Матрица AB\n",
      "[[ 2  0 37  6  3 28 15  3]\n",
      " [ 4  0 53 10  5 47 28  6]\n",
      " [ 2  0 48  8  4 37 17  3]\n",
      " [ 4  0 64 12  6 56 30  6]\n",
      " [ 2  0 70 12  6 55 21  3]\n",
      " [ 4  0 42  8  4 38 26  6]\n",
      " [ 2  0 37  6  3 28 15  3]\n",
      " [ 4  0 20  4  2 20 22  6]]\n"
     ]
    }
   ],
   "source": [
    "A = np.array([[1, 0, 3], [2, 1, 4], [1, 0, 4], [2, 1, 5], [1, 0, 6], [2, 1, 3], [1, 0, 3], [2, 1, 1]])\n",
    "B = np.array([[2, 0, 4, 0, 0, 1, 9, 3], [0, 0, 1, 2, 1, 9, 2, 0], [0, 0, 11, 2, 1, 9, 2, 0]])\n",
    "\n",
    "print(f'Матрица A\\n{A}')\n",
    "print(f'Матрица B\\n{B}')\n",
    "print(f'Матрица AB\\n{np.dot(A, B)}')"
   ]
  },
  {
   "cell_type": "code",
   "execution_count": 17,
   "metadata": {},
   "outputs": [
    {
     "name": "stdout",
     "output_type": "stream",
     "text": [
      "Матрица A\n",
      "[[1 0 3 7]\n",
      " [1 0 4 2]\n",
      " [1 0 6 2]\n",
      " [1 0 3 2]]\n",
      "Матрица B\n",
      "[[1 0 3 7]\n",
      " [1 0 4 2]\n",
      " [1 0 6 2]\n",
      " [1 0 3 2]]\n",
      "Матрица AB\n",
      "[[11  0 42 27]\n",
      " [ 7  0 33 19]\n",
      " [ 9  0 45 23]\n",
      " [ 6  0 27 17]]\n"
     ]
    }
   ],
   "source": [
    "A = np.array([[1, 0, 3, 7], [1, 0, 4, 2], [1, 0, 6, 2], [1, 0, 3, 2]])\n",
    "B = np.array([[1, 0, 3, 7], [1, 0, 4, 2], [1, 0, 6, 2], [1, 0, 3, 2]])\n",
    "\n",
    "print(f'Матрица A\\n{A}')\n",
    "print(f'Матрица B\\n{B}')\n",
    "print(f'Матрица AB\\n{np.dot(A, B)}')"
   ]
  },
  {
   "cell_type": "code",
   "execution_count": 19,
   "metadata": {},
   "outputs": [
    {
     "name": "stdout",
     "output_type": "stream",
     "text": [
      "Матрица A\n",
      "[[ 1 -2]\n",
      " [ 3  0]]\n",
      "Матрица B\n",
      "[[ 4 -1]\n",
      " [ 0  5]]\n",
      "Матрица A+B\n",
      "[[ 5 -3]\n",
      " [ 3  5]]\n",
      "Матрица AB\n",
      "[[  4 -11]\n",
      " [ 12  -3]]\n"
     ]
    }
   ],
   "source": [
    "A = np.array([[1, -2], [3, 0]])\n",
    "B = np.array([[4, -1], [0, 5]])\n",
    "\n",
    "print(f'Матрица A\\n{A}')\n",
    "print(f'Матрица B\\n{B}')\n",
    "print(f'Матрица A+B\\n{A+B}')\n",
    "print(f'Матрица AB\\n{np.dot(A, B)}')"
   ]
  },
  {
   "cell_type": "code",
   "execution_count": 23,
   "metadata": {},
   "outputs": [
    {
     "name": "stdout",
     "output_type": "stream",
     "text": [
      "Матрица A\n",
      "[[ 1  7]\n",
      " [ 3 -6]]\n",
      "Матрица B\n",
      "[[ 0  5]\n",
      " [ 2 -1]]\n",
      "Матрица C\n",
      "[[ 2 -4]\n",
      " [ 1  1]]\n",
      "Матрица 3A-2B+4C\n",
      "[[ 11  -5]\n",
      " [  9 -12]]\n"
     ]
    }
   ],
   "source": [
    "A = np.array([[1, 7], [3, -6]])\n",
    "B = np.array([[0, 5], [2, -1]])\n",
    "C = np.array([[2, -4], [1, 1]])\n",
    "print(f'Матрица A\\n{A}')\n",
    "print(f'Матрица B\\n{B}')\n",
    "print(f'Матрица C\\n{C}')\n",
    "print(f'Матрица 3A-2B+4C\\n{3*A-2*B+4*C}')"
   ]
  },
  {
   "cell_type": "code",
   "execution_count": 27,
   "metadata": {},
   "outputs": [
    {
     "name": "stdout",
     "output_type": "stream",
     "text": [
      "Матрица A\n",
      "[[ 4  1]\n",
      " [ 5 -2]\n",
      " [ 2  3]]\n",
      "Матрица A.T\n",
      "[[ 4  5  2]\n",
      " [ 1 -2  3]]\n",
      "Матрица A*A.T\n",
      "[[17 18 11]\n",
      " [18 29  4]\n",
      " [11  4 13]]\n",
      "Матрица A.T*A\n",
      "[[45  0]\n",
      " [ 0 14]]\n"
     ]
    }
   ],
   "source": [
    "A = np.array([[4, 1], [5, -2], [2, 3]])\n",
    "\n",
    "print(f'Матрица A\\n{A}')\n",
    "print(f'Матрица A.T\\n{A.T}')\n",
    "print(f'Матрица A*A.T\\n{np.dot(A,A.T)}')\n",
    "print(f'Матрица A.T*A\\n{np.dot(A.T, A)}')"
   ]
  },
  {
   "cell_type": "markdown",
   "metadata": {},
   "source": [
    "5*. Написать на Python функцию для перемножения двух произвольных матриц, не используя NumPy."
   ]
  },
  {
   "cell_type": "code",
   "execution_count": 48,
   "metadata": {},
   "outputs": [
    {
     "name": "stdout",
     "output_type": "stream",
     "text": [
      "[[17, 18, 11], [18, 29, 4], [11, 4, 13]]\n"
     ]
    }
   ],
   "source": [
    "m2 = [[4,5,2], [1,-2,3]]\n",
    "m1 = [[4,1],[5,-2],[2, 3]]\n",
    "\n",
    "if len(m2) != len(m1[0]):\n",
    "    print(\"Матрицы не могут быть перемножены\")\n",
    "else:\n",
    "    m3 = []\n",
    "    r1 = len(m1) #количество строк в первой матрице\n",
    "    c1 = len(m1[0]) #Количество столбцов в первой матрице\n",
    "    r2 = c1  #количество строк во 2ой матрице\n",
    "    c2 = len(m2[0]) #количество столбцов во 2ой матрице\n",
    "    for z in range(0,r1):\n",
    "        t = []\n",
    "        for j in range(0,c2):\n",
    "            s = 0\n",
    "            for i in range(0,c1):\n",
    "                s=s+m1[z][i]*m2[i][j]\n",
    "            t.append(s)\n",
    "            s = 0\n",
    "        m3.append(t)\n",
    "print(m3)"
   ]
  },
  {
   "cell_type": "markdown",
   "metadata": {},
   "source": [
    "### Матрицы и матричные операции. Часть 2"
   ]
  },
  {
   "cell_type": "code",
   "execution_count": 49,
   "metadata": {},
   "outputs": [
    {
     "name": "stdout",
     "output_type": "stream",
     "text": [
      "Матрица:\n",
      "[[4 2 3]\n",
      " [0 5 1]\n",
      " [0 0 9]]\n",
      "Определитель:\n",
      "180\n"
     ]
    }
   ],
   "source": [
    "a = np.array([[4, 2, 3], [0, 5, 1], [0, 0, 9]])\n",
    "print(f'Матрица:\\n{a}')\n",
    "print(f'Определитель:\\n{np.linalg.det(a):.0f}')"
   ]
  },
  {
   "cell_type": "code",
   "execution_count": 50,
   "metadata": {},
   "outputs": [
    {
     "name": "stdout",
     "output_type": "stream",
     "text": [
      "Матрица:\n",
      "[[1 2 3]\n",
      " [4 5 6]\n",
      " [7 8 9]]\n",
      "Определитель:\n",
      "0\n"
     ]
    }
   ],
   "source": [
    "a = np.array([[1, 2, 3], [4, 5, 6], [7, 8, 9]])\n",
    "print(f'Матрица:\\n{a}')\n",
    "print(f'Определитель:\\n{np.linalg.det(a):.0f}')"
   ]
  },
  {
   "cell_type": "code",
   "execution_count": 51,
   "metadata": {},
   "outputs": [
    {
     "name": "stdout",
     "output_type": "stream",
     "text": [
      "Матрица:\n",
      "[[ -2   7  -3]\n",
      " [  4 -14   6]\n",
      " [ -3   7  13]]\n",
      "Определитель:\n",
      "0\n"
     ]
    }
   ],
   "source": [
    "a = np.array([[-2, 7, -3], [4, -14, 6], [-3, 7, 13]])\n",
    "print(f'Матрица:\\n{a}')\n",
    "print(f'Определитель:\\n{np.linalg.det(a):.0f}')"
   ]
  },
  {
   "cell_type": "code",
   "execution_count": 52,
   "metadata": {},
   "outputs": [
    {
     "name": "stdout",
     "output_type": "stream",
     "text": [
      "Ранг матрицы: 2\n"
     ]
    }
   ],
   "source": [
    "x = [1, 2, 3]\n",
    "y = [1, 1, 1]\n",
    "z = [2, 3, 4]\n",
    "\n",
    "a = np.array([x, y, z])\n",
    "r = np.linalg.matrix_rank(a)\n",
    "\n",
    "print(f'Ранг матрицы: {r}')"
   ]
  },
  {
   "cell_type": "code",
   "execution_count": 53,
   "metadata": {},
   "outputs": [
    {
     "name": "stdout",
     "output_type": "stream",
     "text": [
      "Ранг матрицы: 3\n"
     ]
    }
   ],
   "source": [
    "a = np.array([[0,0,2,1], [0,0,2,2], [0,0,4,3], [2,3,5,6]])\n",
    "r = np.linalg.matrix_rank(a)\n",
    "\n",
    "print(f'Ранг матрицы: {r}')"
   ]
  },
  {
   "cell_type": "code",
   "execution_count": null,
   "metadata": {},
   "outputs": [],
   "source": []
  }
 ],
 "metadata": {
  "kernelspec": {
   "display_name": "Python 3",
   "language": "python",
   "name": "python3"
  },
  "language_info": {
   "codemirror_mode": {
    "name": "ipython",
    "version": 3
   },
   "file_extension": ".py",
   "mimetype": "text/x-python",
   "name": "python",
   "nbconvert_exporter": "python",
   "pygments_lexer": "ipython3",
   "version": "3.7.5"
  }
 },
 "nbformat": 4,
 "nbformat_minor": 2
}
